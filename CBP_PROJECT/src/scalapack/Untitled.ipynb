{
 "cells": [
  {
   "cell_type": "code",
   "execution_count": 21,
   "id": "thermal-crawford",
   "metadata": {},
   "outputs": [],
   "source": [
    "import matplotlib.pyplot as plt\n",
    "\n",
    "import numpy as np \n",
    "\n",
    "N=10\n",
    "A = np.zeros((N,N))\n",
    "\n",
    "for i in range(20):\n",
    "    for j in range(-10,10):\n",
    "        if(i+j >= 0 and i+j<N):\n",
    "             if(i-j >= 0 and i-j<N):\n",
    "                A[i-j,i+j] = 2*i +18\n",
    "        if(i+j+1 >= 0 and i+j+1<N):\n",
    "             if(i-j >= 0 and i-j<N):\n",
    "                A[i-j,i+j+1] = 2*i+1+18\n",
    "        \n",
    "\n",
    "\n",
    "for i in range(N):\n",
    "    for j in range(i,N):\n",
    "        A[i,j]=15"
   ]
  },
  {
   "cell_type": "code",
   "execution_count": 22,
   "id": "weekly-timeline",
   "metadata": {},
   "outputs": [
    {
     "name": "stdout",
     "output_type": "stream",
     "text": [
      "[[15. 15. 15. 15. 15. 15. 15. 15. 15. 15.]\n",
      " [19. 15. 15. 15. 15. 15. 15. 15. 15. 15.]\n",
      " [20. 21. 15. 15. 15. 15. 15. 15. 15. 15.]\n",
      " [21. 22. 23. 15. 15. 15. 15. 15. 15. 15.]\n",
      " [22. 23. 24. 25. 15. 15. 15. 15. 15. 15.]\n",
      " [23. 24. 25. 26. 27. 15. 15. 15. 15. 15.]\n",
      " [24. 25. 26. 27. 28. 29. 15. 15. 15. 15.]\n",
      " [25. 26. 27. 28. 29. 30. 31. 15. 15. 15.]\n",
      " [26. 27. 28. 29. 30. 31. 32. 33. 15. 15.]\n",
      " [27. 28. 29. 30. 31. 32. 33. 34. 35. 15.]]\n"
     ]
    }
   ],
   "source": [
    "print(A)"
   ]
  },
  {
   "cell_type": "code",
   "execution_count": 29,
   "id": "three-single",
   "metadata": {},
   "outputs": [
    {
     "name": "stdout",
     "output_type": "stream",
     "text": [
      "[[ 0.  0.  0.  0.  0.  0.  0.  0.  0.  0.]\n",
      " [ 4.  0.  0.  0.  0.  0.  0.  0.  0.  0.]\n",
      " [ 4.  5.  0.  0.  0.  0.  0.  0.  0.  0.]\n",
      " [ 4.  5.  6.  0.  0.  0.  0.  0.  0.  0.]\n",
      " [ 4.  5.  6.  7.  0.  0.  0.  0.  0.  0.]\n",
      " [ 4.  5.  6.  7.  8.  0.  0.  0.  0.  0.]\n",
      " [ 4.  5.  6.  7.  8.  9.  0.  0.  0.  0.]\n",
      " [ 4.  5.  6.  7.  8.  9. 10.  0.  0.  0.]\n",
      " [ 4.  5.  6.  7.  8.  9. 10. 11.  0.  0.]\n",
      " [ 4.  5.  6.  7.  8.  9. 10. 11. 12.  0.]]\n"
     ]
    }
   ],
   "source": [
    "import matplotlib.pyplot as plt\n",
    "\n",
    "import numpy as np \n",
    "\n",
    "N=10\n",
    "B = np.zeros((N,N))\n",
    "\n",
    "for i in range(10):\n",
    "    for j in range(i+1,10):\n",
    "        B[j,i] = i+4\n",
    "print(B)"
   ]
  },
  {
   "cell_type": "code",
   "execution_count": 30,
   "id": "every-commerce",
   "metadata": {},
   "outputs": [
    {
     "data": {
      "text/plain": [
       "<matplotlib.collections.QuadMesh at 0x7f516f9b35e0>"
      ]
     },
     "execution_count": 30,
     "metadata": {},
     "output_type": "execute_result"
    },
    {
     "data": {
      "image/png": "[encoded data removed]",
      "text/plain": [
       "<Figure size 1080x504 with 2 Axes>"
      ]
     },
     "metadata": {},
     "output_type": "display_data"
    },
    {
     "data": {
      "text/plain": [
       "<Figure size 720x720 with 0 Axes>"
      ]
     },
     "metadata": {},
     "output_type": "display_data"
    }
   ],
   "source": [
    "\n",
    "fig, (ax1, ax2) = plt.subplots(1,2, figsize = (15,7))\n",
    "\n",
    "plt.figure(figsize =(10,10))\n",
    "ax1.set_xticks([])\n",
    "ax1.set_yticks([])\n",
    "ax1.invert_yaxis()\n",
    "ax1.pcolormesh(B,cmap=plt.get_cmap(\"PuBuGn\"),edgecolors='k', linewidth=1)\n",
    "\n",
    "ax2.set_xticks([])\n",
    "ax2.set_yticks([])\n",
    "ax2.invert_yaxis()\n",
    "ax2.pcolormesh(A,cmap=plt.get_cmap(\"PuBuGn\"),edgecolors='k', linewidth=1)\n",
    "\n",
    "\n",
    "#fig.suptitle('Vertically stacked subplots')\n",
    "#ax1.plot(x, y)\n",
    "#ax2.plot(x, -y)\n"
   ]
  },
  {
   "cell_type": "code",
   "execution_count": null,
   "id": "physical-struggle",
   "metadata": {},
   "outputs": [],
   "source": []
  },
  {
   "cell_type": "code",
   "execution_count": null,
   "id": "legal-nomination",
   "metadata": {},
   "outputs": [],
   "source": []
  }
 ],
 "metadata": {
  "kernelspec": {
   "display_name": "Python 3",
   "language": "python",
   "name": "python3"
  },
  "language_info": {
   "codemirror_mode": {
    "name": "ipython",
    "version": 3
   },
   "file_extension": ".py",
   "mimetype": "text/x-python",
   "name": "python",
   "nbconvert_exporter": "python",
   "pygments_lexer": "ipython3",
   "version": "3.9.5"
  }
 },
 "nbformat": 4,
 "nbformat_minor": 5
}
